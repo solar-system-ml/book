{
 "cells": [
  {
   "cell_type": "markdown",
   "id": "9a4ffae3-dc1f-4fe3-8fe3-d37666d1f3f9",
   "metadata": {},
   "source": [
    "# Chapter 2, Part 2. Use of Machine Learning and Genetic Algorithms\n",
    "\n",
    "## Installation\n",
    "\n",
    "Packages/modules required to run the program:\n",
    "\n",
    "```bash\n",
    "pip install numpy\n",
    "pip install pandas\n",
    "pip install install matplotlib\n",
    "pip install scikit-learn\n",
    "pip install tpot\n",
    "```\n",
    "\n",
    "**We use \"import\" to load the libraries we will need.**\n",
    "\n",
    "* Numpy, package is used to do scientific calculations. \n",
    "* Pandas, on the other hand contains tools that help in data analysis.\n",
    "* Matplotlib, used for generating simple and powerful graphic visualizations.\n",
    "* Scikit-learn, module for machine learning built on top of SciPy.\n",
    "* We use the TPOT interface to make it as similar as possible to scikit-learn. It is also possible to use TPOT for regression problems with the TPOTRegressor class. Aside from the class name, a TPOTRegressor is used in the same way as a TPOTClassifier.\n",
    "\n",
    "This program was run on the Anaconda distribution using a Python kernel"
   ]
  },
  {
   "cell_type": "code",
   "execution_count": 4,
   "id": "9ac9eff3-054f-4cb3-8817-fa40ca034cf6",
   "metadata": {},
   "outputs": [],
   "source": [
    "# Packages required to run the program\n",
    "#!pip install numpy\n",
    "#!pip install pandas\n",
    "#!pip install install matplotlib\n",
    "#!pip install scikit-learn\n",
    "#!pip install xgboost\n",
    "#!pip install tpot\n",
    "\n",
    "# Import the necessary modules\n",
    "import pandas as pd\n",
    "import numpy as np\n",
    "#import tpot as tpot\n",
    "from tpot import TPOTClassifier\n",
    "from tpot import TPOTRegressor\n",
    "from sklearn.datasets import load_digits\n",
    "from sklearn.model_selection import train_test_split"
   ]
  },
  {
   "cell_type": "markdown",
   "id": "d003ef4c-14f2-43b8-ad93-daecc05e5298",
   "metadata": {},
   "source": [
    "**Reading input files with asteroid family data** \n",
    "* Opening the input files as \"fam_nov\" is saved with filename2. \n",
    "* The input files \"prop_el_all\" is filename for reading asteroids in the family region."
   ]
  },
  {
   "cell_type": "code",
   "execution_count": 7,
   "id": "34fa2309-c619-4086-a4f8-d944d575c339",
   "metadata": {},
   "outputs": [
    {
     "name": "stdout",
     "output_type": "stream",
     "text": [
      "Input file 1:         Id_prop         a         e    sin(i)          n           g  \\\n",
      "0          10.0  3.141802  0.135780  0.088953  64.621686  128.701534   \n",
      "1          16.0  2.922128  0.102900  0.044069  72.049849   76.934743   \n",
      "2          22.0  2.909599  0.087946  0.218235  72.518789   56.847816   \n",
      "3          24.0  3.134510  0.153380  0.018968  64.845876  132.105084   \n",
      "4          33.0  2.866142  0.297306  0.034773  74.166350   83.752129   \n",
      "...         ...       ...       ...       ...        ...         ...   \n",
      "11273  162468.0  3.122736  0.198642  0.291439  65.218781   71.130360   \n",
      "11274  188330.0  3.187104  0.147355  0.271327  63.253524  126.382193   \n",
      "11275  189818.0  3.203046  0.174452  0.229950  62.775911  191.750135   \n",
      "11276  637410.0  3.164595  0.208793  0.175752  63.923242  139.684601   \n",
      "11277  639326.0  3.141262  0.208871  0.174122  64.639614  117.756444   \n",
      "\n",
      "                s      H      LE      final present  \n",
      "0      -97.083999   5.48    14.8         10       1  \n",
      "1      -73.319571   6.05  2000.0         16       1  \n",
      "2      -63.378817   6.50    44.4         22       1  \n",
      "3     -103.436261   7.27   416.7         24       1  \n",
      "4     -108.512172   8.69    10.9         33       1  \n",
      "...           ...    ...     ...        ...     ...  \n",
      "11273  -85.444693  13.81    13.2     162468       0  \n",
      "11274  -84.432335  13.78    47.4     188330       0  \n",
      "11275 -102.653468  13.96    23.2     189818       0  \n",
      "11276 -115.005772  -9.99    69.4  2010BF123       0  \n",
      "11277 -110.011323  -9.99    19.3  2010OA121       0  \n",
      "\n",
      "[11278 rows x 11 columns]\n"
     ]
    }
   ],
   "source": [
    "filename2='fam_nov'   \n",
    "data2_df=pd.read_csv(str(filename2),\n",
    "                 skiprows=1,  #Changed to skip reading the index\n",
    "                 header=None,\n",
    "                 delim_whitespace=True,\n",
    "                 index_col=None,\n",
    "                 names=['Id_or', 'a', 'e', 'sin(i)', 'H', '?'],\n",
    "                 low_memory=False,\n",
    "                 dtype={'Id_or':np.int8,\n",
    "                        'a':np.float64,\n",
    "                        'e':np.float64,\n",
    "                        'sin(i)':np.float64,\n",
    "                        'H':np.float64,\n",
    "                        '?':np.float64,\n",
    "                 }\n",
    ")\n",
    "\n",
    "#Opening the input file \"prop_el_all\" as a dataframe for the family region.\n",
    "filename='prop_el_all' #family region file\n",
    "data1_df=pd.read_csv(str(filename),\n",
    "                 skiprows=0,\n",
    "                 header=None,\n",
    "                 delim_whitespace=True,\n",
    "                 index_col=None,\n",
    "                 names=['Id_prop', 'a', 'e', 'sin(i)', 'n', 'g', 's', 'H', 'LE','final','present'],\n",
    "                 low_memory=False,\n",
    "                 dtype={'Id_prop':np.float64,\n",
    "                        'a':np.float64,\n",
    "                        'e':np.float64,\n",
    "                        'sin(i)':np.float64,\n",
    "                        'n':np.float64,\n",
    "                        'g':np.float64,\n",
    "                        's':np.float64,\n",
    "                        'H':np.float64,\n",
    "                        'LE':np.float64,\n",
    "                 }\n",
    ")\n",
    "\n",
    "data1_df['present']=data1_df['Id_prop'].isin(data2_df['Id_or']) \n",
    "\n",
    "data1_df.loc[(data1_df['present']==False), 'present'] = 0   \n",
    "data1_df.loc[(data1_df['present']==True), 'present'] = 1    \n",
    "\n",
    "print('Input file 1:',data1_df)\n",
    "\n",
    "n_data = data1_df.shape[0] \n",
    "X_data = data1_df.iloc[:,1:4].values  \n",
    "y_data = data1_df.present.to_numpy()\n",
    "y_data=y_data.astype('int')  "
   ]
  },
  {
   "cell_type": "markdown",
   "id": "283b0a53-04db-47c4-9891-f2113a91cf73",
   "metadata": {},
   "source": [
    "## **2.3.1 Using Genetic algorithms to optimize machine learming prediction.**\n",
    "\n",
    "Genetic algorithms are used to identify the most appropriate machine learning process for a particular task.\n",
    "The user must provide simple inputs after manually cleaning the raw user data: \n",
    "   *  **Generations:** number of genetic algorithm training iterations, \n",
    "   *  **Population size:** number of individuals retained in the population each generation, \n",
    "   *  **Crossvalidation - cv:** used to evaluate each pipeline using a simple parameter K, which corresponds to the number of groups into which the data sample is divided, and \n",
    "   *  **Random state:** random number generator seed for reproducibility."
   ]
  },
  {
   "cell_type": "code",
   "execution_count": 9,
   "id": "6a1eb785-d815-4edc-9f44-689452d2859d",
   "metadata": {},
   "outputs": [
    {
     "data": {
      "application/vnd.jupyter.widget-view+json": {
       "model_id": "",
       "version_major": 2,
       "version_minor": 0
      },
      "text/plain": [
       "Optimization Progress:   0%|          | 0/120 [00:00<?, ?pipeline/s]"
      ]
     },
     "metadata": {},
     "output_type": "display_data"
    },
    {
     "name": "stdout",
     "output_type": "stream",
     "text": [
      "\n",
      "Generation 1 - Current best internal CV score: 0.9976353745947465\n",
      "\n",
      "Generation 2 - Current best internal CV score: 0.9976353745947465\n",
      "\n",
      "Generation 3 - Current best internal CV score: 0.9976353745947465\n",
      "\n",
      "Generation 4 - Current best internal CV score: 0.9976353745947465\n",
      "\n",
      "Generation 5 - Current best internal CV score: 0.9976353745947465\n",
      "\n",
      "Best pipeline: ExtraTreesClassifier(input_matrix, bootstrap=False, criterion=gini, max_features=0.7000000000000001, min_samples_leaf=13, min_samples_split=17, n_estimators=100)\n",
      "0.9975177304964539\n"
     ]
    }
   ],
   "source": [
    "X_train, X_test, y_train, y_test = train_test_split(X_data, y_data,\n",
    "                                                    train_size=0.75, test_size=0.25)\n",
    "\n",
    "\n",
    "pipeline_optimizer = TPOTClassifier(generations=5, population_size=20, cv=5,\n",
    "                                    random_state=55, verbosity=2)\n",
    "\n",
    "pipeline_optimizer.fit(X_train, y_train)\n",
    "print(pipeline_optimizer.score(X_test, y_test))\n",
    "\n",
    "pipeline_optimizer.export('tpot_exported_pipeline_genetico.py')"
   ]
  },
  {
   "cell_type": "markdown",
   "id": "9e13aa68-850a-4ea9-b73c-82ac47571a30",
   "metadata": {},
   "source": [
    "**The tool then automatically produces the machine learning pipeline’s best model.**"
   ]
  },
  {
   "cell_type": "code",
   "execution_count": null,
   "id": "46fe9aea-edc4-4b68-b2b5-6ed0426dd585",
   "metadata": {},
   "outputs": [],
   "source": []
  }
 ],
 "metadata": {
  "kernelspec": {
   "display_name": "anaconda-panel-2023.05-py310",
   "language": "python",
   "name": "conda-env-anaconda-panel-2023.05-py310-py"
  },
  "language_info": {
   "codemirror_mode": {
    "name": "ipython",
    "version": 3
   },
   "file_extension": ".py",
   "mimetype": "text/x-python",
   "name": "python",
   "nbconvert_exporter": "python",
   "pygments_lexer": "ipython3",
   "version": "3.11.5"
  }
 },
 "nbformat": 4,
 "nbformat_minor": 5
}
